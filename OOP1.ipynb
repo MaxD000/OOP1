{
 "cells": [
  {
   "cell_type": "code",
   "execution_count": 3,
   "metadata": {},
   "outputs": [
    {
     "name": "stdout",
     "output_type": "stream",
     "text": [
      "permieter of rectangle 1:20\n",
      "area of rectangle 1:24\n",
      "permieter of rectangle 2:24\n",
      "area of rectangle 2:27\n"
     ]
    }
   ],
   "source": [
    "#exo1 #OOP 1\n",
    "class Rectangle:\n",
    "    def __init__(self, lenght, width):\n",
    "        self.lenght=lenght\n",
    "        self.width=width\n",
    "    def perimeter(self):\n",
    "        return 2*(self.width+self.lenght)\n",
    "    def area(self):\n",
    "        return self.width*self.lenght\n",
    "\n",
    "rectangle1=Rectangle(6,4)\n",
    "rectangle2=Rectangle(9, 3)\n",
    "print (f\"permieter of rectangle 1:{rectangle1.perimeter()}\")\n",
    "print (f\"area of rectangle 1:{rectangle1.area()}\" )\n",
    "print (f\"permieter of rectangle 2:{rectangle2.perimeter()}\")\n",
    "print (f\"area of rectangle 2:{rectangle2.area()}\" )"
   ]
  },
  {
   "cell_type": "code",
   "execution_count": 2,
   "metadata": {},
   "outputs": [
    {
     "name": "stdout",
     "output_type": "stream",
     "text": [
      "Name: Martin\n",
      "Age: 40\n"
     ]
    }
   ],
   "source": [
    "#exo 2#OOP1\n",
    "class Person:\n",
    "    def __init__(self, name, age):\n",
    "        self.__name = name\n",
    "        self.__age = age\n",
    "    def get_name(self):\n",
    "        return self.__name\n",
    "    def set_name(self,name):\n",
    "        self.__name = name\n",
    "    def get_age(self):\n",
    "        return self.__age\n",
    "    def set_age(self, age):\n",
    "        if age<0:\n",
    "            return None\n",
    "        else:\n",
    "            self.__age=age\n",
    "\n",
    "person=Person(\"Martin\", '40')\n",
    "print(\"Name:\", person.get_name())\n",
    "print(\"Age:\", person.get_age())\n",
    "\n"
   ]
  },
  {
   "cell_type": "code",
   "execution_count": 60,
   "metadata": {},
   "outputs": [
    {
     "name": "stdout",
     "output_type": "stream",
     "text": [
      "Mercedes, Model: Class G, year: 2008\n",
      "Honda, Model: Civic, year: 1994\n",
      "Yamaha, Model: R1, year: 2000\n"
     ]
    }
   ],
   "source": [
    "#exo3#OOP1\n",
    "class vehicle:\n",
    "    def __init__(self, make, model):\n",
    "        self.make=make\n",
    "        self.model=model\n",
    "    def info(self):\n",
    "        return f\"{self.make}, Model: {self.model}\"\n",
    "class Car(vehicle):\n",
    "    def __init__(self, make, model, year):\n",
    "        super().__init__(make, model)\n",
    "        self.year = year\n",
    "    def info(self):\n",
    "        vehicle_info=super().info()\n",
    "        return f\"{vehicle_info}, year: {self.year}\"\n",
    "\n",
    "\n",
    "class Motorcycle(vehicle):\n",
    "    def __init__(self, make, model, year):\n",
    "        super().__init__(make, model)\n",
    "        self.year = year\n",
    "    def info(self):\n",
    "        vehicle_info=super().info()\n",
    "        return f\"{vehicle_info}, year: {self.year}\"\n",
    "\n",
    "        \n",
    "car1= Car(\"Mercedes\", \"Class G\", 2008)\n",
    "car2=Car(\"Honda\", \"Civic\", 1994)\n",
    "motorcycle= Motorcycle(\"Yamaha\", \"R1\", 2000)\n",
    "print (car1.info())\n",
    "print (car2.info())\n",
    "print (motorcycle.info())"
   ]
  },
  {
   "cell_type": "code",
   "execution_count": 45,
   "metadata": {},
   "outputs": [
    {
     "name": "stdout",
     "output_type": "stream",
     "text": [
      "The title is : Harry Potter and the Author is : J.K. Rowling\n"
     ]
    }
   ],
   "source": [
    "#exo4#OOP1\n",
    "class Book:\n",
    "    def __init__(self, title, author):\n",
    "        self.title = title\n",
    "        self.author = author\n",
    "\n",
    "\n",
    "class Library:\n",
    "    def __init__(self):\n",
    "        self.collection = []\n",
    "\n",
    "    def add_books(self, book):\n",
    "        self.collection.append(book)\n",
    "\n",
    "    def library_collection(self):\n",
    "        if not self.collection:\n",
    "            print(\"No books in the library.\")\n",
    "        else:\n",
    "            for book in self.collection:\n",
    "                print(f\"The title is : {book.title} and the Author is : {book.author}\")\n",
    "\n",
    "\n",
    "\n",
    "book1 = Book(\"Harry Potter\", \"J.K. Rowling\")\n",
    "library = Library()\n",
    "library.add_books(book1)\n",
    "library.library_collection()\n",
    "\n"
   ]
  },
  {
   "cell_type": "code",
   "execution_count": 64,
   "metadata": {},
   "outputs": [
    {
     "name": "stdout",
     "output_type": "stream",
     "text": [
      "Students in the Math Class:\n",
      "- Emma\n",
      "- Louise\n",
      "- Leo\n",
      "- Tommy\n",
      "Students in the Science Class:\n",
      "- Chloe\n",
      "- Louis\n",
      "- Gabriel\n"
     ]
    }
   ],
   "source": [
    "#exo5#OOP1\n",
    "class University:\n",
    "    def __init__(self):\n",
    "        self.departments = []  \n",
    "    def add_department(self, department):\n",
    "        self.departments.append(department)\n",
    "    def display_departments(self):\n",
    "        for department in self.departments:\n",
    "            department.display_students()\n",
    "class Department:\n",
    "    def __init__(self, name, students):\n",
    "        self.name = name\n",
    "        self.students = students  \n",
    "    def display_students(self):\n",
    "        print(f\"Students in the {self.name}:\")\n",
    "        for student in self.students:\n",
    "            print(f\"- {student}\")\n",
    "math_department = Department(\"Math Class\", [\"Emma\", \"Louise\", \"Leo\", \"Tommy\"])\n",
    "science_department = Department(\"Science Class\", [\"Chloe\", \"Louis\", \"Gabriel\"])\n",
    "university = University()\n",
    "university.add_department(math_department)\n",
    "university.add_department(science_department)\n",
    "university.display_departments()\n"
   ]
  },
  {
   "cell_type": "code",
   "execution_count": 63,
   "metadata": {},
   "outputs": [
    {
     "name": "stdout",
     "output_type": "stream",
     "text": [
      "Professor Blanchard's students: ['Martin']\n",
      "Martin's teachers: ['Professor Blanchard']\n"
     ]
    }
   ],
   "source": [
    "#exo6#OOP1\n",
    "class Teacher:\n",
    "    def __init__(self, name):\n",
    "            self.name = name\n",
    "            self.students = []\n",
    "class Student:\n",
    "    def __init__(self, name):\n",
    "            self.name = name\n",
    "            self.teachers = []\n",
    "    \n",
    "teacher1 = Teacher(\"Professor Blanchard\")\n",
    "student1 = Student(\"Martin\")\n",
    "teacher1.students.append(student1)\n",
    "student1.teachers.append(teacher1)\n",
    "print(f\"{teacher1.name}'s students: {[student.name for student in teacher1.students]}\")\n",
    "print(f\"{student1.name}'s teachers: {[teacher.name for teacher in student1.teachers]}\")\n",
    "\n"
   ]
  },
  {
   "cell_type": "code",
   "execution_count": 55,
   "metadata": {},
   "outputs": [
    {
     "name": "stdout",
     "output_type": "stream",
     "text": [
      "circle area: 254.46900494077323\n",
      "rectangle area: 28\n"
     ]
    }
   ],
   "source": [
    "#exo7#OOP1\n",
    "import math\n",
    "\n",
    "class Shape:\n",
    "    def __init__(self):\n",
    "        pass\n",
    "class Circle (Shape):\n",
    "\n",
    "    def __init__(self, radius):\n",
    "        super().__init__()\n",
    "        self.radius=radius\n",
    "    def area(self):\n",
    "        return math.pi*(self.radius**2)\n",
    "class Rectangle(Shape):\n",
    "    def __init__(self, lenght, width):\n",
    "        super().__init__()\n",
    "        self.lenght=lenght\n",
    "        self.width=width\n",
    "    def area(self):\n",
    "        return self.lenght*self.width\n",
    "circle = Circle(9)\n",
    "rectangle = Rectangle(7, 4)\n",
    "\n",
    "print(f\"circle area: {circle.area()}\")\n",
    "print(f\"rectangle area: {rectangle.area()}\")"
   ]
  }
 ],
 "metadata": {
  "kernelspec": {
   "display_name": "Python 3",
   "language": "python",
   "name": "python3"
  },
  "language_info": {
   "codemirror_mode": {
    "name": "ipython",
    "version": 3
   },
   "file_extension": ".py",
   "mimetype": "text/x-python",
   "name": "python",
   "nbconvert_exporter": "python",
   "pygments_lexer": "ipython3",
   "version": "3.10.2"
  }
 },
 "nbformat": 4,
 "nbformat_minor": 2
}
